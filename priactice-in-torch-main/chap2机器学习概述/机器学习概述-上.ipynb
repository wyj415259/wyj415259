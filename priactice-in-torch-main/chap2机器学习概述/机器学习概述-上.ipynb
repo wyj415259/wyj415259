{
 "cells": [
  {
   "metadata": {},
   "cell_type": "markdown",
   "source": "1.构建回归数据集，被拟合的函数定义为：",
   "id": "c0c5de236eef59d9"
  },
  {
   "metadata": {
    "ExecuteTime": {
     "end_time": "2024-09-27T08:18:03.926602Z",
     "start_time": "2024-09-27T08:18:03.918375Z"
    }
   },
   "cell_type": "code",
   "source": [
    "def linear_func(x,w=1.2,b=0.5):\n",
    "    y=w*x+b\n",
    "    return y"
   ],
   "id": "f023b440ba18d7bc",
   "outputs": [],
   "execution_count": 127
  },
  {
   "metadata": {},
   "cell_type": "markdown",
   "source": "2.为了模拟真实环境中样本通常包含噪声的问题，我们采样过程中加入高斯噪声和异常点。",
   "id": "a4d95b923ea48612"
  },
  {
   "metadata": {
    "ExecuteTime": {
     "end_time": "2024-09-27T08:18:04.942651Z",
     "start_time": "2024-09-27T08:18:04.932203Z"
    }
   },
   "cell_type": "code",
   "source": [
    "import torch\n",
    "\n",
    "def create_toy_data(func, interval, sample_num, noise=0.0, add_outlier=False, outlier_ratio=0.001):\n",
    "    \"\"\"\n",
    "    根据给定的函数，生成样本\n",
    "    输入：\n",
    "       - func：函数\n",
    "       - interval： x的取值范围\n",
    "       - sample_num： 样本数目\n",
    "       - noise： 噪声均方差\n",
    "       - add_outlier：是否生成异常值\n",
    "       - outlier_ratio：异常值占比\n",
    "    输出：\n",
    "       - X: 特征数据，shape=[n_samples,1]\n",
    "       - y: 标签数据，shape=[n_samples,1]\n",
    "    \"\"\"\n",
    "\n",
    "    # 均匀采样\n",
    "    # 使用torch.rand生成sample_num个随机数\n",
    "    X = torch.rand(sample_num) * (interval[1] - interval[0]) + interval[0]\n",
    "    y = func(X)\n",
    "    print(X)\n",
    "    print(y)\n",
    "    print(y.shape)\n",
    "\n",
    "    # 生成高斯分布的标签噪声\n",
    "    # 使用torch.normal生成0均值，noise标准差的数据\n",
    "    epsilon = torch.normal(mean=torch.zeros(y.shape[0]), std=noise)\n",
    "    y = y + epsilon\n",
    "    if add_outlier:     # 生成额外的异常点\n",
    "        outlier_num = int(len(y) * outlier_ratio)\n",
    "        if outlier_num != 0:\n",
    "            # 使用torch.randperm生成一个从0到len(y)-1的随机排列，然后选择前outlier_num个作为outlier_idx\n",
    "            outlier_idx = torch.randperm(len(y))[:outlier_num]\n",
    "            y[outlier_idx] = y[outlier_idx] * 5\n",
    "    return X.unsqueeze(1), y.unsqueeze(1)"
   ],
   "id": "18909af2d53f0981",
   "outputs": [],
   "execution_count": 128
  },
  {
   "metadata": {},
   "cell_type": "markdown",
   "source": "3.利用以上功能，生成线性函数的训练集和测试集，并绘制图像。",
   "id": "ecbab89286b107a0"
  },
  {
   "metadata": {
    "ExecuteTime": {
     "end_time": "2024-09-27T08:18:06.457779Z",
     "start_time": "2024-09-27T08:18:06.072812Z"
    }
   },
   "cell_type": "code",
   "source": [
    "from matplotlib import pyplot as plt\n",
    "\n",
    "func = linear_func\n",
    "interval = (-10,10)\n",
    "train_num = 100\n",
    "test_num = 50\n",
    "noise = 2\n",
    "X_train,y_train = create_toy_data(func=func,interval=interval,sample_num=train_num,noise=noise,add_outlier=False)\n",
    "X_test,y_test = create_toy_data(func=func,interval=interval,sample_num=test_num,noise=noise,add_outlier=False)\n",
    "\n",
    "X_train_large,y_train_large = create_toy_data(func=func,interval=interval,sample_num=5000,noise=noise,add_outlier=True)\n",
    "\n",
    "X_underlying = torch.linspace(interval[0],interval[1],train_num)\n",
    "y_underlying = linear_func(X_underlying)\n",
    "\n",
    "plt.scatter(X_train, y_train, marker='*', facecolor=\"none\", edgecolor='#e4007f', s=50, label=\"train data\")\n",
    "plt.scatter(X_test, y_test, facecolor=\"none\", edgecolor='#f19ec2', s=50, label=\"test data\")\n",
    "plt.plot(X_underlying, y_underlying, c='#000000', label=r\"underlying distribution\")\n",
    "plt.legend(fontsize='x-large') # 给图像加图例\n",
    "plt.savefig('ml-vis.pdf') # 保存图像到PDF文件中\n",
    "plt.show()"
   ],
   "id": "6e8ab7f5e038a35f",
   "outputs": [
    {
     "name": "stdout",
     "output_type": "stream",
     "text": [
      "tensor([-9.7849, -9.3135, -7.5756, -9.0194, -9.3807,  4.3837,  6.1335,  6.7572,\n",
      "         5.3872,  3.3885,  4.4055, -5.5302,  9.0035, -0.6896,  8.6280,  3.0657,\n",
      "         7.8272,  7.9770, -2.0894, -2.9085,  1.5047, -0.4250,  1.5641,  5.0730,\n",
      "        -7.8141, -0.4589, -7.8483,  9.6574, -7.0330,  1.9126, -2.7322,  5.6839,\n",
      "         0.0336, -1.0057,  7.3194,  9.1338, -7.2572, -9.6453,  0.8334,  3.1499,\n",
      "         2.2823,  9.2371,  4.4888, -4.6004, -6.8481,  7.7582,  9.5843, -4.7453,\n",
      "        -6.4001,  3.5002, -7.1516, -2.4199, -9.8908,  2.7358, -3.4098, -5.5948,\n",
      "        -6.3589, -3.5187,  4.7494,  0.5662,  8.6114, -3.5742, -2.9265,  9.7876,\n",
      "        -9.5385, -3.9364, -6.2038,  9.6213,  5.3239, -3.3506, -4.2453,  3.0668,\n",
      "        -3.3804,  3.1048, -5.1186, -6.1882, -0.2502,  5.8717,  8.5171,  2.2102,\n",
      "        -5.9391,  5.2278,  3.8983,  4.2659, -3.3340, -1.3492,  4.6148,  4.1309,\n",
      "         6.6424, -5.9983,  6.2793, -3.8897, -0.2510, -4.7068, -2.9644,  6.7416,\n",
      "         8.5429,  3.4823, -7.5014, -3.6880])\n",
      "tensor([-1.1242e+01, -1.0676e+01, -8.5907e+00, -1.0323e+01, -1.0757e+01,\n",
      "         5.7604e+00,  7.8602e+00,  8.6087e+00,  6.9646e+00,  4.5662e+00,\n",
      "         5.7866e+00, -6.1362e+00,  1.1304e+01, -3.2756e-01,  1.0854e+01,\n",
      "         4.1789e+00,  9.8926e+00,  1.0072e+01, -2.0072e+00, -2.9902e+00,\n",
      "         2.3056e+00, -1.0000e-02,  2.3770e+00,  6.5876e+00, -8.8770e+00,\n",
      "        -5.0654e-02, -8.9180e+00,  1.2089e+01, -7.9397e+00,  2.7951e+00,\n",
      "        -2.7786e+00,  7.3207e+00,  5.4031e-01, -7.0690e-01,  9.2833e+00,\n",
      "         1.1461e+01, -8.2086e+00, -1.1074e+01,  1.5001e+00,  4.2799e+00,\n",
      "         3.2387e+00,  1.1585e+01,  5.8865e+00, -5.0204e+00, -7.7178e+00,\n",
      "         9.8098e+00,  1.2001e+01, -5.1944e+00, -7.1801e+00,  4.7002e+00,\n",
      "        -8.0820e+00, -2.4038e+00, -1.1369e+01,  3.7829e+00, -3.5918e+00,\n",
      "        -6.2137e+00, -7.1307e+00, -3.7225e+00,  6.1993e+00,  1.1795e+00,\n",
      "         1.0834e+01, -3.7890e+00, -3.0118e+00,  1.2245e+01, -1.0946e+01,\n",
      "        -4.2236e+00, -6.9446e+00,  1.2046e+01,  6.8887e+00, -3.5207e+00,\n",
      "        -4.5943e+00,  4.1802e+00, -3.5565e+00,  4.2258e+00, -5.6423e+00,\n",
      "        -6.9258e+00,  1.9970e-01,  7.5461e+00,  1.0721e+01,  3.1522e+00,\n",
      "        -6.6269e+00,  6.7734e+00,  5.1780e+00,  5.6191e+00, -3.5008e+00,\n",
      "        -1.1191e+00,  6.0378e+00,  5.4571e+00,  8.4709e+00, -6.6980e+00,\n",
      "         8.0351e+00, -4.1676e+00,  1.9876e-01, -5.1481e+00, -3.0573e+00,\n",
      "         8.5899e+00,  1.0751e+01,  4.6788e+00, -8.5017e+00, -3.9256e+00])\n",
      "torch.Size([100])\n",
      "tensor([-9.9009,  4.9304,  2.7804,  2.6638, -2.7766,  2.8723,  2.3686, -9.7365,\n",
      "        -4.6993,  4.9900, -6.9310, -3.5519,  5.8154,  5.1337, -7.7417,  4.4421,\n",
      "        -7.2307,  8.7640, -1.0246,  1.3616,  2.8960, -7.6897,  7.1316, -6.6138,\n",
      "        -8.9205,  1.8834,  2.8271,  7.2092, -8.1681, -2.0530,  7.8272,  5.3490,\n",
      "        -8.2404, -0.3853,  1.3710, -6.6489,  6.0833,  0.7951, -3.1558,  5.0562,\n",
      "         3.9080,  7.6410,  3.7958, -8.0330,  5.1737,  4.4151,  1.9564, -6.0553,\n",
      "         1.0826,  9.8200])\n",
      "tensor([-11.3811,   6.4164,   3.8365,   3.6965,  -2.8319,   3.9468,   3.3423,\n",
      "        -11.1838,  -5.1392,   6.4880,  -7.8172,  -3.7623,   7.4784,   6.6604,\n",
      "         -8.7901,   5.8305,  -8.1768,  11.0168,  -0.7295,   2.1340,   3.9752,\n",
      "         -8.7276,   9.0579,  -7.4365, -10.2046,   2.7601,   3.8925,   9.1511,\n",
      "         -9.3018,  -1.9636,   9.8926,   6.9188,  -9.3884,   0.0376,   2.1451,\n",
      "         -7.4787,   7.8000,   1.4542,  -3.2869,   6.5674,   5.1896,   9.6692,\n",
      "          5.0550,  -9.1396,   6.7085,   5.7981,   2.8477,  -6.7663,   1.7992,\n",
      "         12.2841])\n",
      "torch.Size([50])\n",
      "tensor([-2.4072, -3.5221, -2.8117,  ...,  7.4329, -4.0069,  7.8024])\n",
      "tensor([-2.3887, -3.7265, -2.8741,  ...,  9.4195, -4.3082,  9.8628])\n",
      "torch.Size([5000])\n"
     ]
    },
    {
     "data": {
      "text/plain": [
       "<Figure size 640x480 with 1 Axes>"
      ],
      "image/png": "[encoded data removed]"
     },
     "metadata": {},
     "output_type": "display_data"
    }
   ],
   "execution_count": 129
  },
  {
   "metadata": {},
   "cell_type": "markdown",
   "source": "4.构建线性回归模型",
   "id": "12ea022263b0411"
  },
  {
   "metadata": {
    "ExecuteTime": {
     "end_time": "2024-09-27T08:18:07.908045Z",
     "start_time": "2024-09-27T08:18:07.886351Z"
    }
   },
   "cell_type": "code",
   "source": [
    "import torch\n",
    "from torch.nn import Module\n",
    "\n",
    "torch.manual_seed(10)  # 设置随机种子\n",
    "\n",
    "# 线性算子\n",
    "class Linear(Module):\n",
    "    def __init__(self, input_size):\n",
    "        self.params = {'w': None, 'b': None}\n",
    "        \"\"\"\n",
    "        输入：\n",
    "           - input_size: 模型要处理的数据特征向量长度\n",
    "        \"\"\"\n",
    "        super(Linear, self).__init__()\n",
    "        self.input_size = input_size\n",
    "\n",
    "        # 模型参数\n",
    "        self.params['w'] = torch.randn(input_size, 1, dtype=torch.float32, requires_grad=True)\n",
    "        self.params['b'] = torch.zeros(1, dtype=torch.float32, requires_grad=True)\n",
    "\n",
    "    def forward(self, X):\n",
    "        \"\"\"\n",
    "        输入：\n",
    "           - X: tensor, shape=[N, D]\n",
    "           注意这里的X矩阵是由N个x向量的转置拼接成的，与原教材行向量表示方式不一致\n",
    "        输出：\n",
    "           - y_pred： tensor, shape=[N]\n",
    "        \"\"\"\n",
    "        N, D = X.shape\n",
    "\n",
    "        if self.input_size == 0:\n",
    "            return torch.full((N, 1), fill_value=self.b.item())\n",
    "\n",
    "        assert D == self.input_size, \"输入数据维度不匹配\"\n",
    "\n",
    "        # 使用torch.matmul计算两个tensor的乘积\n",
    "        y_pred = torch.matmul(X, self.params['w']) + self.params['b']\n",
    "\n",
    "        return y_pred.squeeze()\n",
    "\n",
    "# 设置输入大小和样本数量\n",
    "input_size = 3\n",
    "N = 2\n",
    "\n",
    "# 生成2个维度为3的数据\n",
    "X = torch.randn(N, input_size, dtype=torch.float32)\n",
    "\n",
    "# 创建模型\n",
    "model = Linear(input_size)\n",
    "\n",
    "# 前向传播\n",
    "y_pred = model(X)\n",
    "\n",
    "print(\"y_pred:\", y_pred)  # 输出结果的个数也是2个"
   ],
   "id": "f4ae89b53fcea67",
   "outputs": [
    {
     "name": "stdout",
     "output_type": "stream",
     "text": [
      "y_pred: tensor([1.8529, 0.6011], grad_fn=<SqueezeBackward0>)\n"
     ]
    }
   ],
   "execution_count": 130
  },
  {
   "metadata": {},
   "cell_type": "markdown",
   "source": "5.定义损失函数",
   "id": "5cbff2030e1388aa"
  },
  {
   "metadata": {
    "ExecuteTime": {
     "end_time": "2024-09-27T08:18:09.181908Z",
     "start_time": "2024-09-27T08:18:09.172016Z"
    }
   },
   "cell_type": "code",
   "source": [
    "import torch\n",
    "\n",
    "def mean_squared_error(y_true, y_pred):\n",
    "    \"\"\"\n",
    "    输入：\n",
    "       - y_true: tensor，样本真实标签\n",
    "       - y_pred: tensor, 样本预测标签\n",
    "    输出：\n",
    "       - error: float，误差值\n",
    "    \"\"\"\n",
    "\n",
    "    assert y_true.shape == y_pred.shape, \"形状不匹配\"\n",
    "\n",
    "    # torch.square 计算输入的平方值\n",
    "    # torch.mean 沿 axis 计算 x 的平均值，默认axis是None，则对输入的全部元素计算平均值。\n",
    "    error = torch.mean(torch.square(y_true - y_pred))\n",
    "\n",
    "    return error.item()\n",
    "\n",
    "\n",
    "# 构造一个简单的样例进行测试:[N,1], N=2\n",
    "y_true = torch.tensor([[-0.2], [4.9]], dtype=torch.float32)\n",
    "y_pred = torch.tensor([[1.3], [2.5]], dtype=torch.float32)\n",
    "\n",
    "error = mean_squared_error(y_true=y_true, y_pred=y_pred)\n",
    "print(\"error:\", error)"
   ],
   "id": "f1d00f05ee5d593a",
   "outputs": [
    {
     "name": "stdout",
     "output_type": "stream",
     "text": [
      "error: 4.005000114440918\n"
     ]
    }
   ],
   "execution_count": 131
  },
  {
   "metadata": {},
   "cell_type": "markdown",
   "source": "6.优化模型参数",
   "id": "a1029510160c4431"
  },
  {
   "metadata": {
    "ExecuteTime": {
     "end_time": "2024-09-27T08:18:10.662441Z",
     "start_time": "2024-09-27T08:18:10.648408Z"
    }
   },
   "cell_type": "code",
   "source": [
    "import torch\n",
    "\n",
    "class LinearModel:\n",
    "    def __init__(self):\n",
    "        self.params = {'w': None, 'b': None}\n",
    "\n",
    "def optimizer_lsm(model, X, y, reg_lambda=0):\n",
    "    \"\"\"\n",
    "    输入：\n",
    "       - model: 模型\n",
    "       - X: tensor, 特征数据，shape=[N,D]\n",
    "       - y: tensor, 标签数据，shape=[N]\n",
    "       - reg_lambda: float, 正则化系数，默认为0\n",
    "    输出：\n",
    "       - model: 优化好的模型\n",
    "    \"\"\"\n",
    "\n",
    "    N, D = X.shape\n",
    "\n",
    "    # 对输入特征数据所有特征向量求平均\n",
    "    x_bar = torch.mean(X, dim=0).T\n",
    "    \n",
    "    # 求标签的均值, shape=[1]\n",
    "    y_bar = torch.mean(y)\n",
    "    \n",
    "    # 通过广播的方式实现矩阵减向量\n",
    "    x_sub = X - x_bar.view(1, -1)\n",
    "    \n",
    "    # 检查 x_sub 是否全为0\n",
    "    if torch.all(x_sub == 0):\n",
    "        model.params['b'] = y_bar\n",
    "        model.params['w'] = torch.zeros(D)\n",
    "        return model\n",
    "    \n",
    "    # 求方阵的逆\n",
    "    tmp = torch.inverse(torch.matmul(x_sub.T, x_sub) + \n",
    "                        reg_lambda * torch.eye(D))\n",
    "    \n",
    "    # 计算 w\n",
    "    w = torch.matmul(torch.matmul(tmp, x_sub.T), (y - y_bar))\n",
    "    \n",
    "    # 计算 b\n",
    "    b = y_bar - torch.matmul(x_bar, w)\n",
    "    \n",
    "    model.params['b'] = b\n",
    "    model.params['w'] = w.squeeze(axis=-1)\n",
    "    \n",
    "    return model"
   ],
   "id": "3834e29716da5ca5",
   "outputs": [],
   "execution_count": 132
  },
  {
   "metadata": {},
   "cell_type": "markdown",
   "source": "7.模型预测",
   "id": "4354efce30848149"
  },
  {
   "metadata": {
    "ExecuteTime": {
     "end_time": "2024-09-27T08:18:11.962447Z",
     "start_time": "2024-09-27T08:18:11.931105Z"
    }
   },
   "cell_type": "code",
   "source": [
    "input_size = 1\n",
    "model = Linear(input_size)\n",
    "model = optimizer_lsm(model,X_train, y_train, reg_lambda=0.1)\n",
    "\n",
    "print(\"w_pred:\", model.params['w'].item(), \"b_pred:\", model.params['b'].item())\n",
    "y_train_pred = model(X_train.reshape([-1,1])).squeeze()\n",
    "\n",
    "print(\"y_train_pred:\", y_train_pred.shape) # 打印预测值和真实值的形状\n",
    "print('y_train:',y_train.shape)\n",
    "\n",
    "train_error = mean_squared_error(y_true=y_train, y_pred=y_train_pred.unsqueeze(1))\n",
    "print(\"train error: \",train_error)"
   ],
   "id": "7b85b1289dd0a52b",
   "outputs": [
    {
     "name": "stdout",
     "output_type": "stream",
     "text": [
      "w_pred: 1.1861183643341064 b_pred: 0.3922274112701416\n",
      "y_train_pred: torch.Size([100])\n",
      "y_train: torch.Size([100, 1])\n",
      "train error:  4.582184314727783\n"
     ]
    }
   ],
   "execution_count": 133
  },
  {
   "metadata": {
    "ExecuteTime": {
     "end_time": "2024-09-27T08:21:17.599136Z",
     "start_time": "2024-09-27T08:21:17.588838Z"
    }
   },
   "cell_type": "code",
   "source": [
    "\n",
    "model_large = Linear(input_size)\n",
    "model_large = optimizer_lsm(model_large,X_train_large, y_train_large, reg_lambda=0.1)\n",
    "\n",
    "print(\"w_pred:\", model_large.params['w'].item(), \"b_pred:\", model_large.params['b'].item())\n",
    "y_train_pred_large = model_large(X_train_large.reshape([-1,1])).squeeze()\n",
    "\n",
    "print(\"y_train_pred_large:\", y_train_pred_large.shape) # 打印预测值和真实值的形状\n",
    "print('y_train_large:',y_train_large.shape)\n",
    "\n",
    "train_error_large = mean_squared_error(y_true=y_train_large, y_pred=y_train_pred_large.unsqueeze(1))\n",
    "print(\"train error: \",train_error_large)"
   ],
   "id": "d9e34c6f5c923406",
   "outputs": [
    {
     "name": "stdout",
     "output_type": "stream",
     "text": [
      "w_pred: 1.2013859748840332 b_pred: 0.5179184675216675\n",
      "y_train_pred_large: torch.Size([5000])\n",
      "y_train_large: torch.Size([5000, 1])\n",
      "train error:  5.633490562438965\n"
     ]
    }
   ],
   "execution_count": 136
  },
  {
   "metadata": {},
   "cell_type": "code",
   "outputs": [],
   "execution_count": null,
   "source": "",
   "id": "37f2d74900f85f60"
  }
 ],
 "metadata": {
  "kernelspec": {
   "display_name": "Python 3",
   "language": "python",
   "name": "python3"
  },
  "language_info": {
   "codemirror_mode": {
    "name": "ipython",
    "version": 2
   },
   "file_extension": ".py",
   "mimetype": "text/x-python",
   "name": "python",
   "nbconvert_exporter": "python",
   "pygments_lexer": "ipython2",
   "version": "2.7.6"
  }
 },
 "nbformat": 4,
 "nbformat_minor": 5
}
