{
 "cells": [
  {
   "metadata": {},
   "cell_type": "markdown",
   "source": "1.构建回归数据集，被拟合的函数定义为：",
   "id": "c0c5de236eef59d9"
  },
  {
   "metadata": {
    "ExecuteTime": {
     "end_time": "2024-10-08T12:48:58.186484Z",
     "start_time": "2024-10-08T12:48:58.179881Z"
    }
   },
   "cell_type": "code",
   "source": [
    "def linear_func(x,w=1.2,b=0.5):\n",
    "    y=w*x+b\n",
    "    return y"
   ],
   "id": "f023b440ba18d7bc",
   "outputs": [],
   "execution_count": 1
  },
  {
   "metadata": {},
   "cell_type": "markdown",
   "source": "2.为了模拟真实环境中样本通常包含噪声的问题，我们采样过程中加入高斯噪声和异常点。",
   "id": "a4d95b923ea48612"
  },
  {
   "metadata": {
    "ExecuteTime": {
     "end_time": "2024-10-08T12:53:06.845319Z",
     "start_time": "2024-10-08T12:53:06.837257Z"
    }
   },
   "cell_type": "code",
   "source": [
    "import torch\n",
    "\n",
    "def create_toy_data(func, interval, sample_num, noise=0.0, add_outlier=False, outlier_ratio=0.001):\n",
    "    \"\"\"\n",
    "    根据给定的函数，生成样本\n",
    "    输入：\n",
    "       - func：函数\n",
    "       - interval： x的取值范围\n",
    "       - sample_num： 样本数目\n",
    "       - noise： 噪声均方差\n",
    "       - add_outlier：是否生成异常值\n",
    "       - outlier_ratio：异常值占比\n",
    "    输出：\n",
    "       - X: 特征数据，shape=[n_samples,1]\n",
    "       - y: 标签数据，shape=[n_samples,1]\n",
    "    \"\"\"\n",
    "\n",
    "    # 均匀采样\n",
    "    # 使用torch.rand生成sample_num个随机数\n",
    "    X = torch.rand(sample_num) * (interval[1] - interval[0]) + interval[0]\n",
    "    y = func(X)\n",
    "    print(X)\n",
    "    print(y)\n",
    "    print(y.shape)\n",
    "\n",
    "    # 生成高斯分布的标签噪声\n",
    "    # 使用torch.normal生成0均值，noise标准差的数据\n",
    "    epsilon = torch.normal(mean=torch.zeros(y.shape[0]), std=noise)\n",
    "    y = y + epsilon\n",
    "    if add_outlier:     # 生成额外的异常点\n",
    "        outlier_num = int(len(y) * outlier_ratio)\n",
    "        if outlier_num != 0:\n",
    "            # 使用torch.randperm生成一个从0到len(y)-1的随机排列，然后选择前outlier_num个作为outlier_idx\n",
    "            outlier_idx = torch.randperm(len(y))[:outlier_num]\n",
    "            y[outlier_idx] = y[outlier_idx] * 5\n",
    "    return X.unsqueeze(1), y.unsqueeze(1)"
   ],
   "id": "18909af2d53f0981",
   "outputs": [],
   "execution_count": 12
  },
  {
   "metadata": {},
   "cell_type": "markdown",
   "source": "3.利用以上功能，生成线性函数的训练集和测试集，并绘制图像。",
   "id": "ecbab89286b107a0"
  },
  {
   "metadata": {
    "ExecuteTime": {
     "end_time": "2024-10-08T12:49:11.632008Z",
     "start_time": "2024-10-08T12:49:09.754027Z"
    }
   },
   "cell_type": "code",
   "source": [
    "from matplotlib import pyplot as plt\n",
    "\n",
    "func = linear_func\n",
    "interval = (-10,10)\n",
    "train_num = 100\n",
    "test_num = 50\n",
    "noise = 2\n",
    "X_train,y_train = create_toy_data(func=func,interval=interval,sample_num=train_num,noise=noise,add_outlier=False)\n",
    "X_test,y_test = create_toy_data(func=func,interval=interval,sample_num=test_num,noise=noise,add_outlier=False)\n",
    "\n",
    "X_train_large,y_train_large = create_toy_data(func=func,interval=interval,sample_num=5000,noise=noise,add_outlier=True)\n",
    "\n",
    "X_underlying = torch.linspace(interval[0],interval[1],train_num)\n",
    "y_underlying = linear_func(X_underlying)\n",
    "\n",
    "plt.scatter(X_train, y_train, marker='*', facecolor=\"none\", edgecolor='#e4007f', s=50, label=\"train data\")\n",
    "plt.scatter(X_test, y_test, facecolor=\"none\", edgecolor='#f19ec2', s=50, label=\"test data\")\n",
    "plt.plot(X_underlying, y_underlying, c='#000000', label=r\"underlying distribution\")\n",
    "plt.legend(fontsize='x-large') # 给图像加图例\n",
    "plt.savefig('ml-vis.pdf') # 保存图像到PDF文件中\n",
    "plt.show()"
   ],
   "id": "6e8ab7f5e038a35f",
   "outputs": [
    {
     "name": "stdout",
     "output_type": "stream",
     "text": [
      "tensor([ 4.3715,  2.4645,  6.2634, -5.2497,  6.6559,  9.0776, -2.2645, -3.7674,\n",
      "        -8.3126, -2.3898,  0.1910, -3.6925, -2.2564,  2.2360,  4.0487,  8.7365,\n",
      "         3.6831,  6.8344,  8.5586,  5.0642, -7.1782,  2.3666, -4.0454,  9.0720,\n",
      "        -1.6823, -1.2696,  3.4151, -7.5534, -9.7362, -4.2819,  1.0375, -0.1566,\n",
      "         2.5358,  7.4561,  0.6974, -2.2540, -2.5624, -4.2246, -7.1816, -4.3048,\n",
      "        -6.6303,  2.6405, -3.9519, -6.4692, -9.2837,  9.3087,  4.9887, -9.6372,\n",
      "        -7.3658,  1.0523, -0.9211,  1.8994,  6.1561, -8.8264,  1.2848, -7.9139,\n",
      "         0.9628, -8.1602, -6.3391,  0.8997,  9.5533, -2.0807, -3.7582,  0.0588,\n",
      "         2.9632,  2.7428, -4.0802, -9.7128,  5.2484, -9.2078, -1.9843,  9.8192,\n",
      "        -8.8843, -3.9045,  2.7941, -0.5871,  2.9619, -2.5700, -6.2220,  8.4693,\n",
      "         4.7252, -7.7455,  2.6162, -1.5015,  4.7167,  8.2034,  4.7604, -1.4438,\n",
      "        -9.4366, -4.3968,  9.6115, -0.4594, -6.1809, -6.8806,  9.4548,  5.3029,\n",
      "        -5.6092,  8.3139, -5.9117,  0.4229])\n",
      "tensor([  5.7458,   3.4574,   8.0161,  -5.7997,   8.4871,  11.3932,  -2.2174,\n",
      "         -4.0209,  -9.4751,  -2.3677,   0.7292,  -3.9310,  -2.2077,   3.1831,\n",
      "          5.3585,  10.9837,   4.9197,   8.7013,  10.7703,   6.5771,  -8.1138,\n",
      "          3.3399,  -4.3545,  11.3864,  -1.5188,  -1.0235,   4.5981,  -8.5641,\n",
      "        -11.1834,  -4.6382,   1.7451,   0.3121,   3.5429,   9.4474,   1.3369,\n",
      "         -2.2047,  -2.5749,  -4.5695,  -8.1179,  -4.6658,  -7.4563,   3.6686,\n",
      "         -4.2423,  -7.2631, -10.6405,  11.6704,   6.4864, -11.0646,  -8.3390,\n",
      "          1.7627,  -0.6053,   2.7793,   7.8873, -10.0917,   2.0418,  -8.9967,\n",
      "          1.6553,  -9.2922,  -7.1069,   1.5797,  11.9640,  -1.9969,  -4.0098,\n",
      "          0.5706,   4.0558,   3.7913,  -4.3963, -11.1554,   6.7981, -10.5493,\n",
      "         -1.8812,  12.2831, -10.1611,  -4.1854,   3.8529,  -0.2045,   4.0543,\n",
      "         -2.5840,  -6.9664,  10.6632,   6.1703,  -8.7946,   3.6395,  -1.3018,\n",
      "          6.1600,  10.3441,   6.2125,  -1.2326, -10.8239,  -4.7761,  12.0338,\n",
      "         -0.0513,  -6.9171,  -7.7567,  11.8458,   6.8634,  -6.2311,  10.4767,\n",
      "         -6.5941,   1.0075])\n",
      "torch.Size([100])\n",
      "tensor([ 9.7912,  2.0104,  4.1094, -0.6754,  4.7608, -4.5875, -0.5900, -5.3327,\n",
      "         8.7587,  8.5709,  1.0674, -4.3792, -7.8948, -3.7295,  6.1010, -0.9639,\n",
      "        -3.8670,  4.0765,  8.9461, -8.8021,  0.1278,  0.9300, -6.6048, -2.2349,\n",
      "         1.3992, -2.9987,  3.3867, -3.2033,  6.4483, -2.3967, -1.0101,  5.0276,\n",
      "         9.3025,  2.8025,  6.5549,  9.2930, -2.4528,  3.8199,  8.9899, -0.1881,\n",
      "         5.1083,  4.9267,  4.0931, -5.4451,  0.2923, -8.4988,  1.1169,  8.2315,\n",
      "         3.4216, -4.0291])\n",
      "tensor([ 12.2494,   2.9125,   5.4312,  -0.3105,   6.2130,  -5.0050,  -0.2080,\n",
      "         -5.8992,  11.0105,  10.7851,   1.7808,  -4.7550,  -8.9737,  -3.9754,\n",
      "          7.8212,  -0.6567,  -4.1404,   5.3919,  11.2353, -10.0625,   0.6534,\n",
      "          1.6160,  -7.4258,  -2.1819,   2.1790,  -3.0985,   4.5641,  -3.3439,\n",
      "          8.2379,  -2.3760,  -0.7121,   6.5332,  11.6630,   3.8630,   8.3658,\n",
      "         11.6516,  -2.4434,   5.0839,  11.2879,   0.2743,   6.6299,   6.4120,\n",
      "          5.4117,  -6.0341,   0.8508,  -9.6986,   1.8403,  10.3778,   4.6060,\n",
      "         -4.3349])\n",
      "torch.Size([50])\n",
      "tensor([ 0.6395, -2.4292, -9.9819,  ..., -0.8982,  3.5807, -2.1450])\n",
      "tensor([  1.2674,  -2.4150, -11.4783,  ...,  -0.5778,   4.7968,  -2.0741])\n",
      "torch.Size([5000])\n"
     ]
    },
    {
     "data": {
      "text/plain": [
       "<Figure size 640x480 with 1 Axes>"
      ],
      "image/png": "[encoded data removed]"
     },
     "metadata": {},
     "output_type": "display_data"
    }
   ],
   "execution_count": 3
  },
  {
   "metadata": {},
   "cell_type": "markdown",
   "source": "4.构建线性回归模型",
   "id": "12ea022263b0411"
  },
  {
   "metadata": {
    "ExecuteTime": {
     "end_time": "2024-10-09T00:46:46.557725Z",
     "start_time": "2024-10-09T00:46:46.497749Z"
    }
   },
   "cell_type": "code",
   "source": [
    "import torch\n",
    "from torch.nn import Module\n",
    "\n",
    "torch.manual_seed(10)  # 设置随机种子\n",
    "\n",
    "# 线性算子\n",
    "class Linear(Module):\n",
    "    def __init__(self, input_size):\n",
    "        self.params = {'w': None, 'b': None}\n",
    "        \"\"\"\n",
    "        输入：\n",
    "           - input_size: 模型要处理的数据特征向量长度\n",
    "        \"\"\"\n",
    "        super(Linear, self).__init__()\n",
    "        self.input_size = input_size\n",
    "\n",
    "        # 模型参数\n",
    "        self.params['w'] = torch.randn(input_size, 1, dtype=torch.float32, requires_grad=True)\n",
    "        self.params['b'] = torch.zeros(1, dtype=torch.float32, requires_grad=True)\n",
    "\n",
    "    def forward(self, X):\n",
    "        \"\"\"\n",
    "        输入：\n",
    "           - X: tensor, shape=[N, D]\n",
    "           注意这里的X矩阵是由N个x向量的转置拼接成的，与原教材行向量表示方式不一致\n",
    "        输出：\n",
    "           - y_pred： tensor, shape=[N]\n",
    "        \"\"\"\n",
    "        N, D = X.shape\n",
    "\n",
    "        if self.input_size == 0:\n",
    "            return torch.full((N, 1), fill_value=self.b.item())\n",
    "\n",
    "        assert D == self.input_size, \"输入数据维度不匹配\"\n",
    "\n",
    "        # 使用torch.matmul计算两个tensor的乘积\n",
    "        y_pred = torch.matmul(X, self.params['w']) + self.params['b']\n",
    "\n",
    "        return y_pred.squeeze()\n",
    "\n",
    "# 设置输入大小和样本数量\n",
    "input_size = 3\n",
    "N = 2\n",
    "\n",
    "# 生成2个维度为3的数据\n",
    "X = torch.randn(N, input_size, dtype=torch.float32)\n",
    "\n",
    "# 创建模型\n",
    "model = Linear(input_size)\n",
    "\n",
    "# 前向传播\n",
    "y_pred = model.forward(X)\n",
    "\n",
    "print(\"y_pred:\", y_pred)  # 输出结果的个数也是2个"
   ],
   "id": "f4ae89b53fcea67",
   "outputs": [
    {
     "name": "stdout",
     "output_type": "stream",
     "text": [
      "y_pred: tensor([1.8529, 0.6011], grad_fn=<SqueezeBackward0>)\n"
     ]
    }
   ],
   "execution_count": 13
  },
  {
   "metadata": {},
   "cell_type": "markdown",
   "source": "5.定义损失函数",
   "id": "5cbff2030e1388aa"
  },
  {
   "metadata": {
    "ExecuteTime": {
     "end_time": "2024-10-09T01:29:37.115579Z",
     "start_time": "2024-10-09T01:29:37.106683Z"
    }
   },
   "cell_type": "code",
   "source": [
    "import torch\n",
    "\n",
    "def mean_squared_error(y_true, y_pred):\n",
    "    \"\"\"\n",
    "    输入：\n",
    "       - y_true: tensor，样本真实标签\n",
    "       - y_pred: tensor, 样本预测标签\n",
    "    输出：\n",
    "       - error: float，误差值\n",
    "    \"\"\"\n",
    "\n",
    "    assert y_true.shape == y_pred.shape, \"形状不匹配\"\n",
    "\n",
    "    # torch.square 计算输入的平方值\n",
    "    # torch.mean 沿 axis 计算 x 的平均值，默认axis是None，则对输入的全部元素计算平均值。\n",
    "    error = torch.mean(torch.square(y_true - y_pred))\n",
    "\n",
    "    return error.item()\n",
    "\n",
    "\n",
    "# 构造一个简单的样例进行测试:[N,1], N=2\n",
    "y_true = torch.tensor([[-0.2], [4.9]], dtype=torch.float32)\n",
    "y_pred = torch.tensor([[1.3], [2.5]], dtype=torch.float32)\n",
    "\n",
    "error = mean_squared_error(y_true=y_true, y_pred=y_pred)\n",
    "print(\"error:\", error)"
   ],
   "id": "f1d00f05ee5d593a",
   "outputs": [
    {
     "name": "stdout",
     "output_type": "stream",
     "text": [
      "error: 4.005000114440918\n"
     ]
    }
   ],
   "execution_count": 34
  },
  {
   "metadata": {},
   "cell_type": "markdown",
   "source": "6.优化模型参数",
   "id": "a1029510160c4431"
  },
  {
   "metadata": {
    "ExecuteTime": {
     "end_time": "2024-10-09T01:29:38.295531Z",
     "start_time": "2024-10-09T01:29:38.287306Z"
    }
   },
   "cell_type": "code",
   "source": [
    "import torch\n",
    "\n",
    "class LinearModel:\n",
    "    def __init__(self):\n",
    "        self.params = {'w': None, 'b': None}\n",
    "\n",
    "def optimizer_lsm(model, X, y, reg_lambda=0):\n",
    "    \"\"\"\n",
    "    输入：\n",
    "       - model: 模型\n",
    "       - X: tensor, 特征数据，shape=[N,D]\n",
    "       - y: tensor, 标签数据，shape=[N]\n",
    "       - reg_lambda: float, 正则化系数，默认为0\n",
    "    输出：\n",
    "       - model: 优化好的模型\n",
    "    \"\"\"\n",
    "\n",
    "    N, D = X.shape\n",
    "\n",
    "    # 对输入特征数据所有特征向量求平均\n",
    "    x_bar = torch.mean(X, dim=0).T\n",
    "    \n",
    "    # 求标签的均值, shape=[1]\n",
    "    y_bar = torch.mean(y)\n",
    "    \n",
    "    # 通过广播的方式实现矩阵减向量\n",
    "    x_sub = X - x_bar.view(1, -1)\n",
    "    \n",
    "    # 检查 x_sub 是否全为0\n",
    "    if torch.all(x_sub == 0):\n",
    "        model.params['b'] = y_bar\n",
    "        model.params['w'] = torch.zeros(D)\n",
    "        return model\n",
    "    \n",
    "    # 求方阵的逆\n",
    "    tmp = torch.inverse(torch.matmul(x_sub.mT, x_sub) + \n",
    "                        reg_lambda * torch.eye(D))\n",
    "    \n",
    "    # 计算 w\n",
    "    w = torch.matmul(torch.matmul(tmp, x_sub.mT), (y - y_bar))\n",
    "    \n",
    "    # 计算 b\n",
    "    b = y_bar - torch.matmul(x_bar, w)\n",
    "    \n",
    "    model.params['b'] = b\n",
    "    model.params['w'] = w.squeeze(axis=-1)\n",
    "    \n",
    "    return model"
   ],
   "id": "3834e29716da5ca5",
   "outputs": [],
   "execution_count": 35
  },
  {
   "metadata": {},
   "cell_type": "markdown",
   "source": "7.模型预测",
   "id": "4354efce30848149"
  },
  {
   "metadata": {
    "ExecuteTime": {
     "end_time": "2024-10-09T01:29:41.181240Z",
     "start_time": "2024-10-09T01:29:41.170350Z"
    }
   },
   "cell_type": "code",
   "source": [
    "input_size = 1\n",
    "model = Linear(input_size)\n",
    "model = optimizer_lsm(model,X_train, y_train, reg_lambda=0.1)\n",
    "\n",
    "print(\"w_pred:\", model.params['w'].item(), \"b_pred:\", model.params['b'].item())\n",
    "y_train_pred = model.forward(X_train.reshape([-1,1])).reshape([-1,1])\n",
    "\n",
    "print(\"y_train_pred:\", y_train_pred.shape) # 打印预测值和真实值的形状\n",
    "print('y_train:',y_train.shape)\n",
    "\n",
    "train_error = mean_squared_error(y_true=y_train, y_pred=y_train_pred)\n",
    "print(\"train error: \",train_error)"
   ],
   "id": "7b85b1289dd0a52b",
   "outputs": [
    {
     "name": "stdout",
     "output_type": "stream",
     "text": [
      "w_pred: 1.2192754745483398 b_pred: 0.4761868715286255\n",
      "y_train_pred: torch.Size([100, 1])\n",
      "y_train: torch.Size([100, 1])\n",
      "train error:  2.7519567012786865\n"
     ]
    }
   ],
   "execution_count": 36
  },
  {
   "metadata": {},
   "cell_type": "markdown",
   "source": [
    "****\n",
    "动手练习:\n",
    "\n",
    "为了加深对机器学习模型的理解，请自己动手完成以下实验：\n",
    "\n",
    "（1） 调整训练数据的样本数量，由 100 调整到 5000，观察对模型性能的影响。\n",
    "\n",
    "（2） 调整正则化系数，观察对模型性能的影响。\n",
    "****"
   ],
   "id": "551adf00b2b0855b"
  },
  {
   "metadata": {
    "ExecuteTime": {
     "end_time": "2024-10-09T01:31:04.353705Z",
     "start_time": "2024-10-09T01:31:04.343152Z"
    }
   },
   "cell_type": "code",
   "source": [
    "\n",
    "model_large = Linear(input_size)\n",
    "model_large = optimizer_lsm(model_large,X_train_large, y_train_large, reg_lambda=0.1)\n",
    "\n",
    "print(\"w_pred:\", model_large.params['w'].item(), \"b_pred:\", model_large.params['b'].item())\n",
    "y_train_pred_large = model_large(X_train_large.reshape([-1,1])).reshape([-1,1])\n",
    "\n",
    "print(\"y_train_pred_large:\", y_train_pred_large.shape) # 打印预测值和真实值的形状\n",
    "print('y_train_large:',y_train_large.shape)\n",
    "\n",
    "train_error_large = mean_squared_error(y_true=y_train_large, y_pred=y_train_pred_large)\n",
    "print(\"train error: \",train_error_large)"
   ],
   "id": "d9e34c6f5c923406",
   "outputs": [
    {
     "name": "stdout",
     "output_type": "stream",
     "text": [
      "w_pred: 1.1939046382904053 b_pred: 0.5297477841377258\n",
      "y_train_pred_large: torch.Size([5000, 1])\n",
      "y_train_large: torch.Size([5000, 1])\n",
      "train error:  4.784622669219971\n"
     ]
    }
   ],
   "execution_count": 39
  },
  {
   "metadata": {},
   "cell_type": "code",
   "outputs": [],
   "execution_count": null,
   "source": "",
   "id": "37f2d74900f85f60"
  }
 ],
 "metadata": {
  "kernelspec": {
   "display_name": "Python 3",
   "language": "python",
   "name": "python3"
  },
  "language_info": {
   "codemirror_mode": {
    "name": "ipython",
    "version": 2
   },
   "file_extension": ".py",
   "mimetype": "text/x-python",
   "name": "python",
   "nbconvert_exporter": "python",
   "pygments_lexer": "ipython2",
   "version": "2.7.6"
  }
 },
 "nbformat": 4,
 "nbformat_minor": 5
}
